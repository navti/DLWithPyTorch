{
 "cells": [
  {
   "cell_type": "markdown",
   "id": "5f53f7a8",
   "metadata": {},
   "source": [
    "# MNIST Classification using  neural networks"
   ]
  },
  {
   "cell_type": "markdown",
   "id": "9a2922ad",
   "metadata": {},
   "source": [
    "### Import modules"
   ]
  },
  {
   "cell_type": "code",
   "execution_count": 21,
   "id": "06acf702",
   "metadata": {},
   "outputs": [],
   "source": [
    "import torch\n",
    "from torch import nn\n",
    "from torchvision import datasets\n",
    "from torch.utils.data import DataLoader\n",
    "from torch import optim\n",
    "import torch.nn.functional as F\n",
    "from torchvision import transforms\n",
    "from torchinfo import summary"
   ]
  },
  {
   "cell_type": "markdown",
   "id": "b8f6628f",
   "metadata": {},
   "source": [
    "### Download MNIST data and pre process it"
   ]
  },
  {
   "cell_type": "code",
   "execution_count": 22,
   "id": "dc6895ae",
   "metadata": {},
   "outputs": [],
   "source": [
    "batch_size = 64\n",
    "transform = transforms.Compose([transforms.ToTensor(), transforms.RandomInvert()])\n",
    "train_set = datasets.MNIST(root='data',train=True,transform=transform,download=True)\n",
    "train_loader = DataLoader(dataset=train_set, batch_size=batch_size, shuffle=True)\n",
    "test_set = datasets.MNIST(root='data',train=False, transform=transform, download=True)\n",
    "test_loader = DataLoader(dataset=test_set, batch_size=batch_size, shuffle=True)"
   ]
  },
  {
   "cell_type": "markdown",
   "id": "2fccf3e3",
   "metadata": {},
   "source": [
    "### Define a cnn based model with a dense network at the end"
   ]
  },
  {
   "cell_type": "code",
   "execution_count": 23,
   "id": "61e2b4f3",
   "metadata": {},
   "outputs": [],
   "source": [
    "# conv layers of the network\n",
    "class CNN(nn.Module):\n",
    "    def __init__(self, channels, nf):\n",
    "        super(CNN, self).__init__()\n",
    "\n",
    "        self.conv1 = nn.Conv2d(in_channels=channels, out_channels=nf, kernel_size=3, stride=1, padding='same')\n",
    "        self.conv2 = nn.Conv2d(in_channels=nf, out_channels=2*nf, kernel_size=3, stride=1, padding='same')\n",
    "        self.conv3 = nn.Conv2d(in_channels=2*nf, out_channels=4*nf, kernel_size=3, stride=1, padding='same')\n",
    "        self.maxpool = nn.MaxPool2d(kernel_size=2, stride=2)        \n",
    "        self.bn_conv = nn.BatchNorm2d(nf)\n",
    "\n",
    "    def forward(self, x):\n",
    "        x = self.conv1(x)\n",
    "        #x = self.bn_conv(x)\n",
    "        #x = self.dropout(x)\n",
    "        x = self.maxpool(x)\n",
    "        x = F.relu(x)\n",
    "        \n",
    "        x = self.conv2(x)\n",
    "        #x = self.bn_conv(x)\n",
    "        #x = self.dropout(x)\n",
    "        x = self.maxpool(x)\n",
    "        x = F.relu(x)\n",
    "\n",
    "        x = self.conv3(x)\n",
    "        #x = self.bn_conv(x)\n",
    "        #x = self.dropout(x)\n",
    "        x = self.maxpool(x)\n",
    "        x = F.relu(x)\n",
    "\n",
    "        return x\n",
    "\n",
    "# dense layers of the network\n",
    "class FCNN(nn.Module):\n",
    "    def __init__(self, nf, num_classes):\n",
    "        super(FCNN, self).__init__()\n",
    "        # in: nfx4x4, flatten and feed to linear layer\n",
    "        self.fc1 = nn.Linear(4*nf*3*3, 4*nf)\n",
    "        self.bn_d1 = nn.BatchNorm1d(4*nf)\n",
    "        self.fc2 = nn.Linear(4*nf, nf)\n",
    "        self.bn_d2 = nn.BatchNorm1d(nf)        \n",
    "        self.fc3 = nn.Linear(nf, num_classes)\n",
    "        self.dropout = nn.Dropout(0.25)\n",
    "\n",
    "    def forward(self, x):\n",
    "        x = self.fc1(x)\n",
    "        x = self.bn_d1(x)\n",
    "        x = self.dropout(x)\n",
    "        x = F.relu(x)\n",
    "        \n",
    "        x = self.fc2(x)\n",
    "        x = self.bn_d2(x)\n",
    "        x = self.dropout(x)\n",
    "        x = F.relu(x)\n",
    "\n",
    "        x = self.fc3(x)\n",
    "        #x = self.bn_d3(x)\n",
    "        return x\n",
    "\n",
    "# combined model\n",
    "class MODEL(nn.Module):\n",
    "    def __init__(self, channels, nf, num_classes):\n",
    "        super(MODEL, self).__init__()\n",
    "        self.conv = CNN(channels, nf)\n",
    "        self.dense = FCNN(nf, num_classes)\n",
    "        self.nf = nf\n",
    "        self.channels = channels\n",
    "    \n",
    "    def forward(self, x):\n",
    "        x = self.conv(x)\n",
    "        x = x.flatten(1)\n",
    "        x = self.dense(x)\n",
    "        return x"
   ]
  },
  {
   "cell_type": "code",
   "execution_count": 24,
   "id": "a10de501",
   "metadata": {},
   "outputs": [],
   "source": [
    "# A util function to print model summary\n",
    "def print_model_summary(model):\n",
    "    print(summary(model.conv, input_size=(1,28,28)))\n",
    "    print(summary(model.dense, input_size=(1, 4*model.nf * 3*3)))"
   ]
  },
  {
   "cell_type": "code",
   "execution_count": 26,
   "id": "f597b6d0",
   "metadata": {},
   "outputs": [
    {
     "name": "stdout",
     "output_type": "stream",
     "text": [
      "==========================================================================================\n",
      "Layer (type:depth-idx)                   Output Shape              Param #\n",
      "==========================================================================================\n",
      "CNN                                      [64, 3, 3]                32\n",
      "├─Conv2d: 1-1                            [16, 28, 28]              160\n",
      "├─MaxPool2d: 1-2                         [16, 14, 14]              --\n",
      "├─Conv2d: 1-3                            [32, 14, 14]              4,640\n",
      "├─MaxPool2d: 1-4                         [32, 7, 7]                --\n",
      "├─Conv2d: 1-5                            [64, 7, 7]                18,496\n",
      "├─MaxPool2d: 1-6                         [64, 3, 3]                --\n",
      "==========================================================================================\n",
      "Total params: 23,328\n",
      "Trainable params: 23,328\n",
      "Non-trainable params: 0\n",
      "Total mult-adds (M): 10.44\n",
      "==========================================================================================\n",
      "Input size (MB): 0.00\n",
      "Forward/backward pass size (MB): 0.18\n",
      "Params size (MB): 0.09\n",
      "Estimated Total Size (MB): 0.27\n",
      "==========================================================================================\n",
      "==========================================================================================\n",
      "Layer (type:depth-idx)                   Output Shape              Param #\n",
      "==========================================================================================\n",
      "FCNN                                     [1, 10]                   --\n",
      "├─Linear: 1-1                            [1, 64]                   36,928\n",
      "├─BatchNorm1d: 1-2                       [1, 64]                   128\n",
      "├─Dropout: 1-3                           [1, 64]                   --\n",
      "├─Linear: 1-4                            [1, 16]                   1,040\n",
      "├─BatchNorm1d: 1-5                       [1, 16]                   32\n",
      "├─Dropout: 1-6                           [1, 16]                   --\n",
      "├─Linear: 1-7                            [1, 10]                   170\n",
      "==========================================================================================\n",
      "Total params: 38,298\n",
      "Trainable params: 38,298\n",
      "Non-trainable params: 0\n",
      "Total mult-adds (M): 0.04\n",
      "==========================================================================================\n",
      "Input size (MB): 0.00\n",
      "Forward/backward pass size (MB): 0.00\n",
      "Params size (MB): 0.15\n",
      "Estimated Total Size (MB): 0.16\n",
      "==========================================================================================\n"
     ]
    }
   ],
   "source": [
    "# check if output shape is as expected\n",
    "test_model = MODEL(1,16,10) #MODEL(3,10)\n",
    "test_input = torch.randn(size=(64,1,28,28))\n",
    "output = test_model(test_input)\n",
    "output.shape\n",
    "print_model_summary(test_model)\n"
   ]
  }
 ],
 "metadata": {
  "kernelspec": {
   "display_name": "mlenv",
   "language": "python",
   "name": "python3"
  },
  "language_info": {
   "codemirror_mode": {
    "name": "ipython",
    "version": 3
   },
   "file_extension": ".py",
   "mimetype": "text/x-python",
   "name": "python",
   "nbconvert_exporter": "python",
   "pygments_lexer": "ipython3",
   "version": "3.10.15"
  }
 },
 "nbformat": 4,
 "nbformat_minor": 5
}
