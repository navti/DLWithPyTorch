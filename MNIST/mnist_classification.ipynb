{
 "cells": [
  {
   "cell_type": "markdown",
   "id": "5f53f7a8",
   "metadata": {},
   "source": [
    "# MNIST Classification using  neural networks"
   ]
  },
  {
   "cell_type": "markdown",
   "id": "9a2922ad",
   "metadata": {},
   "source": [
    "### Import modules"
   ]
  },
  {
   "cell_type": "code",
   "execution_count": 1,
   "id": "06acf702",
   "metadata": {},
   "outputs": [],
   "source": [
    "import torch\n",
    "from torch import nn\n",
    "from torchvision import datasets\n",
    "from torch.utils.data import DataLoader\n",
    "from torch import optim\n",
    "import torch.nn.functional as F\n",
    "from torchvision import transforms\n",
    "from torchinfo import summary\n",
    "import matplotlib.pyplot as plt"
   ]
  },
  {
   "cell_type": "markdown",
   "id": "b8f6628f",
   "metadata": {},
   "source": [
    "### Download MNIST data and pre process it"
   ]
  },
  {
   "cell_type": "code",
   "execution_count": 2,
   "id": "dc6895ae",
   "metadata": {},
   "outputs": [],
   "source": [
    "batch_size = 64\n",
    "transform = transforms.Compose([transforms.ToTensor(), transforms.RandomInvert()])\n",
    "train_set = datasets.MNIST(root='data',train=True,transform=transform,download=True)\n",
    "train_loader = DataLoader(dataset=train_set, batch_size=batch_size, shuffle=True, drop_last=True)\n",
    "test_set = datasets.MNIST(root='data',train=False, transform=transform, download=True)\n",
    "test_loader = DataLoader(dataset=test_set, batch_size=batch_size, shuffle=True, drop_last=True)"
   ]
  },
  {
   "cell_type": "markdown",
   "id": "2fccf3e3",
   "metadata": {},
   "source": [
    "### Define a cnn based model with a dense network at the end"
   ]
  },
  {
   "cell_type": "code",
   "execution_count": 3,
   "id": "61e2b4f3",
   "metadata": {},
   "outputs": [],
   "source": [
    "# conv layers of the network\n",
    "class CNN(nn.Module):\n",
    "    def __init__(self, channels, nf):\n",
    "        super(CNN, self).__init__()\n",
    "\n",
    "        self.conv1 = nn.Conv2d(in_channels=channels, out_channels=nf, kernel_size=3, stride=1, padding='same')\n",
    "        self.conv2 = nn.Conv2d(in_channels=nf, out_channels=2*nf, kernel_size=3, stride=1, padding='same')\n",
    "        self.conv3 = nn.Conv2d(in_channels=2*nf, out_channels=4*nf, kernel_size=3, stride=1, padding='same')\n",
    "        self.maxpool = nn.MaxPool2d(kernel_size=2, stride=2)        \n",
    "        self.bn_conv = nn.BatchNorm2d(nf)\n",
    "\n",
    "    def forward(self, x):\n",
    "        x = self.conv1(x)\n",
    "        #x = self.bn_conv(x)\n",
    "        #x = self.dropout(x)\n",
    "        x = self.maxpool(x)\n",
    "        x = F.relu(x)\n",
    "        \n",
    "        x = self.conv2(x)\n",
    "        #x = self.bn_conv(x)\n",
    "        #x = self.dropout(x)\n",
    "        x = self.maxpool(x)\n",
    "        x = F.relu(x)\n",
    "\n",
    "        x = self.conv3(x)\n",
    "        #x = self.bn_conv(x)\n",
    "        #x = self.dropout(x)\n",
    "        x = self.maxpool(x)\n",
    "        x = F.relu(x)\n",
    "\n",
    "        return x\n",
    "\n",
    "# dense layers of the network\n",
    "class FCNN(nn.Module):\n",
    "    def __init__(self, nf, num_classes):\n",
    "        super(FCNN, self).__init__()\n",
    "        # in: nfx4x4, flatten and feed to linear layer\n",
    "        self.fc1 = nn.Linear(4*nf*3*3, 4*nf)\n",
    "        self.bn_d1 = nn.BatchNorm1d(4*nf)\n",
    "        self.fc2 = nn.Linear(4*nf, nf)\n",
    "        self.bn_d2 = nn.BatchNorm1d(nf)        \n",
    "        self.fc3 = nn.Linear(nf, num_classes)\n",
    "        self.dropout = nn.Dropout(0.25)\n",
    "\n",
    "    def forward(self, x):\n",
    "        x = self.fc1(x)\n",
    "        x = self.bn_d1(x)\n",
    "        x = self.dropout(x)\n",
    "        x = F.relu(x)\n",
    "        \n",
    "        x = self.fc2(x)\n",
    "        x = self.bn_d2(x)\n",
    "        x = self.dropout(x)\n",
    "        x = F.relu(x)\n",
    "\n",
    "        x = self.fc3(x)\n",
    "        #x = self.bn_d3(x)\n",
    "        return x\n",
    "\n",
    "# combined model\n",
    "class MODEL(nn.Module):\n",
    "    def __init__(self, channels, nf, num_classes):\n",
    "        super(MODEL, self).__init__()\n",
    "        self.conv = CNN(channels, nf)\n",
    "        self.dense = FCNN(nf, num_classes)\n",
    "        self.nf = nf\n",
    "        self.channels = channels\n",
    "    \n",
    "    def forward(self, x):\n",
    "        x = self.conv(x)\n",
    "        x = x.flatten(1)\n",
    "        x = self.dense(x)\n",
    "        return x"
   ]
  },
  {
   "cell_type": "markdown",
   "id": "fdfa414c",
   "metadata": {},
   "source": [
    "### Functions for counting model parameters and summary"
   ]
  },
  {
   "cell_type": "code",
   "execution_count": 4,
   "id": "a10de501",
   "metadata": {},
   "outputs": [],
   "source": [
    "# A util function to print model summary\n",
    "def print_model_summary(model):\n",
    "    print(summary(model.conv, input_size=(1,28,28)))\n",
    "    print(summary(model.dense, input_size=(1, 4*model.nf * 3*3)))\n",
    "\n",
    "def count_model_params(model):\n",
    "    total_params = sum(p.numel() for p in model.parameters())\n",
    "    trainable_params = sum(p.numel() for p in model.parameters() if p.requires_grad)\n",
    "    print(f\"Toatal model params: {total_params}, Trainable params: {trainable_params}\")\n",
    "    return total_params, trainable_params"
   ]
  },
  {
   "cell_type": "code",
   "execution_count": 5,
   "id": "f597b6d0",
   "metadata": {},
   "outputs": [
    {
     "name": "stdout",
     "output_type": "stream",
     "text": [
      "==========================================================================================\n",
      "Layer (type:depth-idx)                   Output Shape              Param #\n",
      "==========================================================================================\n",
      "CNN                                      [64, 3, 3]                32\n",
      "├─Conv2d: 1-1                            [16, 28, 28]              160\n",
      "├─MaxPool2d: 1-2                         [16, 14, 14]              --\n",
      "├─Conv2d: 1-3                            [32, 14, 14]              4,640\n",
      "├─MaxPool2d: 1-4                         [32, 7, 7]                --\n",
      "├─Conv2d: 1-5                            [64, 7, 7]                18,496\n",
      "├─MaxPool2d: 1-6                         [64, 3, 3]                --\n",
      "==========================================================================================\n",
      "Total params: 23,328\n",
      "Trainable params: 23,328\n",
      "Non-trainable params: 0\n",
      "Total mult-adds (M): 10.44\n",
      "==========================================================================================\n",
      "Input size (MB): 0.00\n",
      "Forward/backward pass size (MB): 0.18\n",
      "Params size (MB): 0.09\n",
      "Estimated Total Size (MB): 0.27\n",
      "==========================================================================================\n",
      "==========================================================================================\n",
      "Layer (type:depth-idx)                   Output Shape              Param #\n",
      "==========================================================================================\n",
      "FCNN                                     [1, 10]                   --\n",
      "├─Linear: 1-1                            [1, 64]                   36,928\n",
      "├─BatchNorm1d: 1-2                       [1, 64]                   128\n",
      "├─Dropout: 1-3                           [1, 64]                   --\n",
      "├─Linear: 1-4                            [1, 16]                   1,040\n",
      "├─BatchNorm1d: 1-5                       [1, 16]                   32\n",
      "├─Dropout: 1-6                           [1, 16]                   --\n",
      "├─Linear: 1-7                            [1, 10]                   170\n",
      "==========================================================================================\n",
      "Total params: 38,298\n",
      "Trainable params: 38,298\n",
      "Non-trainable params: 0\n",
      "Total mult-adds (M): 0.04\n",
      "==========================================================================================\n",
      "Input size (MB): 0.00\n",
      "Forward/backward pass size (MB): 0.00\n",
      "Params size (MB): 0.15\n",
      "Estimated Total Size (MB): 0.16\n",
      "==========================================================================================\n"
     ]
    },
    {
     "name": "stderr",
     "output_type": "stream",
     "text": [
      "/home/codez/anaconda3/envs/mlenv/lib/python3.10/site-packages/torch/cuda/__init__.py:129: UserWarning: CUDA initialization: CUDA unknown error - this may be due to an incorrectly set up environment, e.g. changing env variable CUDA_VISIBLE_DEVICES after program start. Setting the available devices to be zero. (Triggered internally at /home/conda/feedstock_root/build_artifacts/libtorch_1730827426462/work/c10/cuda/CUDAFunctions.cpp:108.)\n",
      "  return torch._C._cuda_getDeviceCount() > 0\n"
     ]
    }
   ],
   "source": [
    "# check if output shape is as expected\n",
    "test_model = MODEL(1,16,10) #MODEL(3,10)\n",
    "test_input = torch.randn(size=(64,1,28,28))\n",
    "output = test_model(test_input)\n",
    "output.shape\n",
    "print_model_summary(test_model)\n"
   ]
  },
  {
   "cell_type": "markdown",
   "id": "192cd762",
   "metadata": {},
   "source": [
    "### Define train and test functions"
   ]
  },
  {
   "cell_type": "code",
   "execution_count": 6,
   "id": "af13815d",
   "metadata": {},
   "outputs": [],
   "source": [
    "def train_model(model, device, train_loader, loss_criterion, optimizer, epoch):\n",
    "    model.train()\n",
    "    train_loss = 0\n",
    "    total = 0\n",
    "    total_acc = 0\n",
    "    for batchidx, (data, target) in enumerate(train_loader):\n",
    "        #print(f'batch id: {batchidx}')\n",
    "        data, target = data.to(device), target.to(device)\n",
    "        optimizer.zero_grad()\n",
    "        output = model(data)\n",
    "        loss = loss_criterion(output, target)\n",
    "        train_loss += loss.item()\n",
    "        loss.backward()\n",
    "        optimizer.step()\n",
    "        predictions = output.argmax(dim=1, keepdim=True)\n",
    "        #print(f'predictions: {predictions.shape}, target: {target.shape}')\n",
    "        correct = predictions.eq(target.view_as(predictions)).sum().item()\n",
    "        total_acc += (correct/len(data))\n",
    "        total += len(data)\n",
    "    avg_acc = total_acc/len(train_loader)\n",
    "    avg_loss = train_loss/total\n",
    "    print(f\"Train epoch: {epoch} [{(batchidx+1) * len(data)}/{len(train_loader.dataset)}\\\n",
    "          ({(100. * batchidx/len(train_loader)):.0f}%)]\\tLoss: {avg_loss:.6f}\\tAcc: {100. * avg_acc:.6f}%\")\n",
    "    return 100. * avg_acc, avg_loss\n",
    "\n",
    "def test_model(model, device, test_loader, loss_criterion):\n",
    "    model.eval()\n",
    "    test_loss = 0.\n",
    "    correct = 0\n",
    "    total = 0\n",
    "    with torch.no_grad():\n",
    "        for data, target in test_loader:\n",
    "            data, target = data.to(device), target.to(device)\n",
    "            output = model(data)\n",
    "            test_loss += loss_criterion(output, target).item()\n",
    "            predictions = output.argmax(dim=1, keepdim=True)\n",
    "            #print(f'predictions: {predictions.shape}, target: {target.shape}')\n",
    "            correct += predictions.eq(target.view_as(predictions)).sum().item()\n",
    "            total += len(data)\n",
    "    test_loss /= total\n",
    "    print(f\"Test set: Average loss: {test_loss:.4f}, Accuracy: {correct}/{total} ({100. * correct/total:.0f}%)\")\n",
    "    return 100. * correct/total, test_loss\n"
   ]
  },
  {
   "cell_type": "markdown",
   "id": "7874875f",
   "metadata": {},
   "source": [
    "### Set training parameters and begin training"
   ]
  },
  {
   "cell_type": "code",
   "execution_count": 7,
   "id": "fbebcc0a",
   "metadata": {},
   "outputs": [
    {
     "name": "stdout",
     "output_type": "stream",
     "text": [
      "Train epoch: 1 [59968/60000          (100%)]\tLoss: 0.005504\tAcc: 89.407684%\n",
      "Test set: Average loss: 0.0009, Accuracy: 9786/9984 (98%)\n",
      "Train epoch: 2 [59968/60000          (100%)]\tLoss: 0.002698\tAcc: 95.200774%\n",
      "Test set: Average loss: 0.0009, Accuracy: 9806/9984 (98%)\n",
      "Train epoch: 3 [59968/60000          (100%)]\tLoss: 0.002282\tAcc: 95.927828%\n",
      "Test set: Average loss: 0.0008, Accuracy: 9834/9984 (98%)\n",
      "Train epoch: 4 [59968/60000          (100%)]\tLoss: 0.002077\tAcc: 96.239661%\n",
      "Test set: Average loss: 0.0006, Accuracy: 9871/9984 (99%)\n",
      "Train epoch: 5 [59968/60000          (100%)]\tLoss: 0.001939\tAcc: 96.543156%\n",
      "Test set: Average loss: 0.0006, Accuracy: 9876/9984 (99%)\n",
      "Train epoch: 6 [59968/60000          (100%)]\tLoss: 0.001787\tAcc: 96.686566%\n",
      "Test set: Average loss: 0.0006, Accuracy: 9872/9984 (99%)\n",
      "Train epoch: 7 [59968/60000          (100%)]\tLoss: 0.001669\tAcc: 97.015075%\n",
      "Test set: Average loss: 0.0006, Accuracy: 9888/9984 (99%)\n",
      "Train epoch: 8 [59968/60000          (100%)]\tLoss: 0.001632\tAcc: 97.160152%\n",
      "Test set: Average loss: 0.0006, Accuracy: 9872/9984 (99%)\n",
      "Train epoch: 9 [59968/60000          (100%)]\tLoss: 0.001532\tAcc: 97.178495%\n",
      "Test set: Average loss: 0.0005, Accuracy: 9886/9984 (99%)\n",
      "Train epoch: 10 [59968/60000          (100%)]\tLoss: 0.001503\tAcc: 97.241862%\n",
      "Test set: Average loss: 0.0007, Accuracy: 9876/9984 (99%)\n"
     ]
    }
   ],
   "source": [
    "num_classes = 10\n",
    "num_filters = 16\n",
    "learning_rate = 0.01\n",
    "num_epochs = 10\n",
    "device = torch.device('cuda' if torch.cuda.is_available() else 'cpu')\n",
    "loss_criterion = nn.CrossEntropyLoss()\n",
    "inp_channels = 1\n",
    "ksize = 3\n",
    "model = MODEL(inp_channels, num_filters, num_classes).to(device=device)\n",
    "optimizer = optim.Adam(model.parameters(),lr=learning_rate)\n",
    "\n",
    "train_loss = []\n",
    "val_loss = []\n",
    "for epoch in range(1,num_epochs+1):\n",
    "    _, tloss = train_model(model, device, train_loader, loss_criterion, optimizer, epoch)\n",
    "    train_loss.append(tloss)\n",
    "    _, vloss = test_model(model, device, test_loader, loss_criterion)\n",
    "    val_loss.append(vloss)\n"
   ]
  },
  {
   "cell_type": "markdown",
   "id": "63ece9ed",
   "metadata": {},
   "source": [
    "### Plot the loss curves"
   ]
  },
  {
   "cell_type": "code",
   "execution_count": 13,
   "id": "cfd40132",
   "metadata": {},
   "outputs": [
    {
     "data": {
      "text/plain": [
       "<matplotlib.legend.Legend at 0x7f3e4ab76500>"
      ]
     },
     "execution_count": 13,
     "metadata": {},
     "output_type": "execute_result"
    },
    {
     "data": {
      "image/png": "[encoded data removed]",
      "text/plain": [
       "<Figure size 640x480 with 1 Axes>"
      ]
     },
     "metadata": {},
     "output_type": "display_data"
    }
   ],
   "source": [
    "plt.xlabel('epochs')\n",
    "plt.ylabel('loss')\n",
    "plt.title('Loss curves')\n",
    "plt.plot(range(1, num_epochs+1), train_loss, label='train loss')\n",
    "plt.plot(range(1, num_epochs+1), val_loss, label='test loss')\n",
    "plt.legend(loc='upper right')"
   ]
  }
 ],
 "metadata": {
  "kernelspec": {
   "display_name": "mlenv",
   "language": "python",
   "name": "python3"
  },
  "language_info": {
   "codemirror_mode": {
    "name": "ipython",
    "version": 3
   },
   "file_extension": ".py",
   "mimetype": "text/x-python",
   "name": "python",
   "nbconvert_exporter": "python",
   "pygments_lexer": "ipython3",
   "version": "3.10.15"
  }
 },
 "nbformat": 4,
 "nbformat_minor": 5
}
