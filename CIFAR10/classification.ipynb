{
 "cells": [
  {
   "cell_type": "code",
   "execution_count": 254,
   "metadata": {},
   "outputs": [],
   "source": [
    "import pandas as pd\n",
    "import numpy as np\n",
    "import torch\n",
    "import torch.nn as nn\n",
    "import torch.nn.functional as F\n",
    "import torch.optim as optim\n",
    "from torch.utils.data import DataLoader\n",
    "import torchvision.transforms as transforms\n",
    "from torchinfo import summary\n",
    "import sys, os\n",
    "import glob\n",
    "import pickle\n",
    "import matplotlib.pyplot as plt\n",
    "import pathlib\n",
    "import time\n",
    "import skimage.transform as T\n",
    "\n",
    "%matplotlib inline"
   ]
  },
  {
   "cell_type": "code",
   "execution_count": 255,
   "metadata": {},
   "outputs": [],
   "source": [
    "def unpickle(file):\n",
    "    with open(file, 'rb') as fo:\n",
    "        dict = pickle.load(fo, encoding='bytes')\n",
    "    return {'data': dict[b'data'], 'labels': dict[b'labels']}\n",
    "\n",
    "def combine_dicts(dicts: list)->dict:\n",
    "    # keys: data, labels\n",
    "    n = len(dicts)\n",
    "    data, labels = dicts[0]['data'], dicts[0]['labels']\n",
    "    for i in range(1,n):\n",
    "        data = np.concatenate([data, dicts[i]['data']], axis=0)\n",
    "        labels = labels + dicts[i]['labels']\n",
    "    return {'data':data, 'labels':labels}\n",
    "\n",
    "def array_to_rgb(arr: np.ndarray, augment=0)->np.ndarray:\n",
    "    # take an 1x3072\n",
    "    # reshape to rgb: 32, 32, 3\n",
    "    rgb = np.reshape(arr, (32, 32, 3), order='F').astype(dtype=np.float32)\n",
    "    rgb = rgb / 255.\n",
    "    # rotate by 90 degrees\n",
    "    rgb = np.rot90(rgb, k=1, axes=(1,0))\n",
    "    rgb_data = [rgb]\n",
    "    if augment:\n",
    "        for i in range(2):\n",
    "            for j in range(2):\n",
    "                rgb_data.append(T.resize(rgb[16*i:(16*i)+16,16*j:(16*j)+16,:], (32,32)))\n",
    "    return rgb_data\n",
    "\n",
    "def show_image(arr: np.ndarray, augment=0)->None:\n",
    "    rgb_imgs = array_to_rgb(arr,augment)\n",
    "    num_imgs = len(rgb_imgs)\n",
    "    print(rgb_imgs[0].shape)\n",
    "    _, axs = plt.subplots(1,num_imgs, figsize=(2*num_imgs,2))\n",
    "    if augment:\n",
    "        axs = axs.flatten()\n",
    "        for img, ax in zip(rgb_imgs, axs):\n",
    "            ax.imshow(img)\n",
    "    else:\n",
    "        axs.imshow(rgb_imgs[0])\n",
    "    plt.show()\n",
    "\n",
    "def torch_from_numpy(arr: list)->torch.tensor:\n",
    "    # convert to torch tensors\n",
    "    #ndarrays = list(map(array_to_rgb, arr))\n",
    "    tensors = [torch.from_numpy(item.copy()) for item in arr]\n",
    "    return torch.einsum('nhwc->nchw', torch.stack(tensors, dim=0))\n",
    "\n",
    "def make_dataset(d: dict, augment=0)->list:\n",
    "    #data = list(map(array_to_rgb, d['data']))\n",
    "    data = []\n",
    "    for img in d['data']:\n",
    "        data += array_to_rgb(img,augment)\n",
    "    tensors = [torch.from_numpy(item.copy()) for item in data]\n",
    "    tensors = torch.einsum('nhwc->nchw', torch.stack(tensors, dim=0))\n",
    "    labels = d['labels']\n",
    "    if augment:\n",
    "        labels = []\n",
    "        for label in d['labels']:\n",
    "            labels += [label for i in range(5)]\n",
    "    return list(zip(tensors, labels))\n",
    "\n",
    "def print_model_summary(model):\n",
    "    print(summary(model.conv, input_size=(3,32,32)))\n",
    "    print(summary(model.dense, input_size=(1, 4*model.nf * 16)))"
   ]
  },
  {
   "cell_type": "code",
   "execution_count": 256,
   "metadata": {},
   "outputs": [],
   "source": [
    "# conv layers of the network\n",
    "class CNN(nn.Module):\n",
    "    def __init__(self, channels, nf):\n",
    "        super(CNN, self).__init__()\n",
    "\n",
    "        self.conv1 = nn.Conv2d(in_channels=channels, out_channels=nf, kernel_size=3, stride=1, padding='same')\n",
    "        self.conv2 = nn.Conv2d(in_channels=nf, out_channels=2*nf, kernel_size=3, stride=1, padding='same')\n",
    "        self.conv3 = nn.Conv2d(in_channels=2*nf, out_channels=4*nf, kernel_size=3, stride=1, padding='same')\n",
    "        self.maxpool = nn.MaxPool2d(kernel_size=2, stride=2)        \n",
    "        self.bn_conv = nn.BatchNorm2d(nf)\n",
    "\n",
    "    def forward(self, x):\n",
    "        x = self.conv1(x)\n",
    "        #x = self.bn_conv(x)\n",
    "        #x = self.dropout(x)\n",
    "        x = self.maxpool(x)\n",
    "        x = F.relu(x)\n",
    "        \n",
    "        x = self.conv2(x)\n",
    "        #x = self.bn_conv(x)\n",
    "        #x = self.dropout(x)\n",
    "        x = self.maxpool(x)\n",
    "        x = F.relu(x)\n",
    "\n",
    "        x = self.conv3(x)\n",
    "        #x = self.bn_conv(x)\n",
    "        #x = self.dropout(x)\n",
    "        x = self.maxpool(x)\n",
    "        x = F.relu(x)\n",
    "\n",
    "        return x\n",
    "\n",
    "# dense layers of the network\n",
    "class FCNN(nn.Module):\n",
    "    def __init__(self, nf):\n",
    "        super(FCNN, self).__init__()\n",
    "        # in: nfx4x4, flatten and feed to linear layer\n",
    "        self.fc1 = nn.Linear(4*nf*4*4, 4*nf)\n",
    "        self.bn_d1 = nn.BatchNorm1d(4*nf)\n",
    "        self.fc2 = nn.Linear(4*nf, nf)\n",
    "        self.bn_d2 = nn.BatchNorm1d(nf)        \n",
    "        self.fc3 = nn.Linear(nf, 10)\n",
    "        self.bn_d3 = nn.BatchNorm1d(10)\n",
    "        self.dropout = nn.Dropout(0.25)\n",
    "\n",
    "    def forward(self, x):\n",
    "        x = self.fc1(x)\n",
    "        x = self.bn_d1(x)\n",
    "        x = self.dropout(x)\n",
    "        x = F.relu(x)\n",
    "        \n",
    "        x = self.fc2(x)\n",
    "        x = self.bn_d2(x)\n",
    "        x = self.dropout(x)\n",
    "        x = F.relu(x)\n",
    "\n",
    "        x = self.fc3(x)\n",
    "        #x = self.bn_d3(x)\n",
    "        return x\n",
    "\n",
    "# combined model\n",
    "class MODEL(nn.Module):\n",
    "    def __init__(self, channels, nf):\n",
    "        super(MODEL, self).__init__()\n",
    "        self.conv = CNN(channels, nf)\n",
    "        self.dense = FCNN(nf)\n",
    "        self.nf = nf\n",
    "        self.channels = channels\n",
    "    \n",
    "    def forward(self, x):\n",
    "        x = self.conv(x)\n",
    "        x = x.flatten(1)\n",
    "        x = self.dense(x)\n",
    "        return x"
   ]
  },
  {
   "cell_type": "code",
   "execution_count": 257,
   "metadata": {},
   "outputs": [],
   "source": [
    "# Conv block used in Resnet model\n",
    "def conv_block(in_channels, out_channels, pool=False):\n",
    "    layers = [nn.Conv2d(in_channels, out_channels, kernel_size=3, stride=1, padding='same'),\n",
    "              nn.BatchNorm2d(out_channels),\n",
    "              nn.ReLU(inplace=True)]\n",
    "    if pool:\n",
    "        layers.append(nn.MaxPool2d(kernel_size=2, stride=2))\n",
    "    return nn.Sequential(*layers)\n",
    "\n",
    "# Resnet9\n",
    "class RESNET9(nn.Module):\n",
    "    def __init__(self, in_channels, num_classes):\n",
    "        super(RESNET9, self).__init__()\n",
    "        self.conv1 = conv_block(in_channels, 64)\n",
    "        self.conv2 = conv_block(64, 128, pool=True)\n",
    "        self.res1 = nn.Sequential(conv_block(128, 128), conv_block(128, 128))\n",
    "\n",
    "        self.conv3 = conv_block(128, 256, pool=True)\n",
    "        self.conv4 = conv_block(256, 512, pool=True)\n",
    "        self.res2 = nn.Sequential(conv_block(512, 512), conv_block(512, 512))\n",
    "\n",
    "        # classifier head\n",
    "        self.fc = nn.Sequential(nn.MaxPool2d(kernel_size=4),\n",
    "                                nn.Flatten(),\n",
    "                                nn.Linear(512, num_classes))\n",
    "    \n",
    "    def forward(self, x):\n",
    "        x = self.conv1(x)\n",
    "        x = self.conv2(x)\n",
    "        x = self.res1(x) + x\n",
    "        x = self.conv3(x)\n",
    "        x = self.conv4(x)\n",
    "        x = self.res2(x) + x\n",
    "        return self.fc(x)\n",
    "\n",
    "    def model_summary(self):\n",
    "        return summary(self, input_size=(3,32,32))\n"
   ]
  },
  {
   "cell_type": "code",
   "execution_count": 258,
   "metadata": {},
   "outputs": [
    {
     "data": {
      "text/plain": [
       "torch.Size([64, 10])"
      ]
     },
     "execution_count": 258,
     "metadata": {},
     "output_type": "execute_result"
    }
   ],
   "source": [
    "# check if output shape as expected\n",
    "test_model = RESNET9(3,10) #MODEL(3,10)\n",
    "test_input = torch.randn(size=(64,3,32,32))\n",
    "output = test_model(test_input)\n",
    "output.shape\n",
    "#print_model_summary(test_model)"
   ]
  },
  {
   "cell_type": "code",
   "execution_count": 259,
   "metadata": {},
   "outputs": [],
   "source": [
    "def train_model(model, device, train_loader, loss_criterion, optimizer, epoch):\n",
    "    model.train()\n",
    "    train_loss = 0\n",
    "    total = 0\n",
    "    total_acc = 0\n",
    "    for batchidx, (data, target) in enumerate(train_loader):\n",
    "        #print(f'batch id: {batchidx}')\n",
    "        data, target = data.to(device), target.to(device)\n",
    "        optimizer.zero_grad()\n",
    "        output = model(data)\n",
    "        loss = loss_criterion(output, target)\n",
    "        train_loss += loss.item()\n",
    "        loss.backward()\n",
    "        optimizer.step()\n",
    "        predictions = output.argmax(dim=1, keepdim=True)\n",
    "        #print(f'predictions: {predictions.shape}, target: {target.shape}')\n",
    "        correct = predictions.eq(target.view_as(predictions)).sum().item()\n",
    "        total_acc += (correct/len(data))\n",
    "        total += len(data)\n",
    "    avg_acc = total_acc/len(train_loader)\n",
    "    avg_loss = train_loss/total\n",
    "    print(f\"Train epoch: {epoch} [{(batchidx+1) * len(data)}/{len(train_loader.dataset)}\\\n",
    "          ({(100. * batchidx/len(train_loader)):.0f}%)]\\tLoss: {avg_loss:.6f}\\tAcc: {100. * avg_acc:.6f}%\")\n",
    "    return 100. * avg_acc\n",
    "\n",
    "def test_model(model, device, test_loader, loss_criterion):\n",
    "    model.eval()\n",
    "    test_loss = 0.\n",
    "    correct = 0\n",
    "    total = 0\n",
    "    with torch.no_grad():\n",
    "        for data, target in test_loader:\n",
    "            data, target = data.to(device), target.to(device)\n",
    "            output = model(data)\n",
    "            test_loss += loss_criterion(output, target).item()\n",
    "            predictions = output.argmax(dim=1, keepdim=True)\n",
    "            #print(f'predictions: {predictions.shape}, target: {target.shape}')\n",
    "            correct += predictions.eq(target.view_as(predictions)).sum().item()\n",
    "            total += len(data)\n",
    "    test_loss /= total\n",
    "    print(f\"Test set: Average loss: {test_loss:.4f}, Accuracy: {correct}/{total} ({100. * correct/total:.0f}%)\")\n",
    "    return 100. * correct/total"
   ]
  },
  {
   "cell_type": "code",
   "execution_count": 260,
   "metadata": {},
   "outputs": [
    {
     "name": "stdout",
     "output_type": "stream",
     "text": [
      "(10000, 3072)\n",
      "(50000, 3072)\n"
     ]
    }
   ],
   "source": [
    "data_dir = \"../data/\"\n",
    "train_files = glob.glob(data_dir + '**/*_batch_*', recursive=True)\n",
    "test_files = glob.glob(data_dir + '**/*test_batch*', recursive=True)\n",
    "train_files = list(map(unpickle, train_files))\n",
    "test_files = list(map(unpickle, test_files))\n",
    "test = combine_dicts(test_files)\n",
    "train = combine_dicts(train_files)\n",
    "print(test['data'].shape)\n",
    "print(train['data'].shape)"
   ]
  },
  {
   "cell_type": "code",
   "execution_count": 261,
   "metadata": {},
   "outputs": [
    {
     "data": {
      "image/png": "[encoded data removed]",
      "text/plain": [
       "<Figure size 1000x200 with 5 Axes>"
      ]
     },
     "metadata": {},
     "output_type": "display_data"
    }
   ],
   "source": [
    "# plot sample images\n",
    "sample_imgs = []\n",
    "for img in train['data'][0:5]:\n",
    "    sample_imgs += array_to_rgb(img)\n",
    "#sample_imgs = list(map(array_to_rgb, train['data'][0:5]))\n",
    "_, axs = plt.subplots(1,5, figsize=(10,2))\n",
    "axs = axs.flatten()\n",
    "for img, ax in zip(sample_imgs, axs):\n",
    "    ax.imshow(img)\n",
    "plt.show()"
   ]
  },
  {
   "cell_type": "code",
   "execution_count": 262,
   "metadata": {},
   "outputs": [
    {
     "name": "stdout",
     "output_type": "stream",
     "text": [
      "(32, 32, 3)\n"
     ]
    },
    {
     "data": {
      "image/png": "[encoded data removed]",
      "text/plain": [
       "<Figure size 1000x200 with 5 Axes>"
      ]
     },
     "metadata": {},
     "output_type": "display_data"
    }
   ],
   "source": [
    "show_image(train['data'][20],augment=1)"
   ]
  },
  {
   "cell_type": "code",
   "execution_count": 263,
   "metadata": {},
   "outputs": [
    {
     "name": "stdout",
     "output_type": "stream",
     "text": [
      "test size: 10000\n",
      "train size: 50000\n"
     ]
    }
   ],
   "source": [
    "trainset = make_dataset(train)\n",
    "testset = make_dataset(test)\n",
    "batch_size = 128\n",
    "learning_rate = 0.2\n",
    "#device = torch.device('cuda') if torch.cuda.is_available() else torch.device('cpu')\n",
    "device = torch.device('cuda') if torch.cuda.is_available() else torch.device('cpu')\n",
    "model = RESNET9(3,10).to(device)\n",
    "loss_criterion = nn.CrossEntropyLoss()\n",
    "optimizer = optim.Adadelta(model.parameters(), lr=learning_rate)\n",
    "train_loader = DataLoader(trainset, shuffle=True, batch_size=batch_size, drop_last=True)\n",
    "test_loader = DataLoader(testset, shuffle=False, batch_size=batch_size, drop_last=True)\n",
    "print(f\"test size: {len(testset)}\")\n",
    "print(f\"train size: {len(trainset)}\")\n",
    "#print(model.model_summary())\n",
    "#print_model_summary(model)"
   ]
  },
  {
   "cell_type": "code",
   "execution_count": 264,
   "metadata": {},
   "outputs": [
    {
     "name": "stdout",
     "output_type": "stream",
     "text": [
      "Train epoch: 1 [49920/50000          (100%)]\tLoss: 0.008976\tAcc: 60.220353%\n",
      "Test set: Average loss: 0.0064, Accuracy: 7184/9984 (72%)\n",
      "Train epoch: 2 [49920/50000          (100%)]\tLoss: 0.004805\tAcc: 78.515625%\n",
      "Test set: Average loss: 0.0049, Accuracy: 7806/9984 (78%)\n",
      "Train epoch: 3 [49920/50000          (100%)]\tLoss: 0.003300\tAcc: 85.494792%\n",
      "Test set: Average loss: 0.0048, Accuracy: 7985/9984 (80%)\n",
      "Train epoch: 4 [49920/50000          (100%)]\tLoss: 0.002266\tAcc: 90.062099%\n",
      "Test set: Average loss: 0.0061, Accuracy: 7499/9984 (75%)\n",
      "Train epoch: 5 [49920/50000          (100%)]\tLoss: 0.001461\tAcc: 93.673878%\n",
      "Test set: Average loss: 0.0047, Accuracy: 8151/9984 (82%)\n",
      "Train epoch: 6 [49920/50000          (100%)]\tLoss: 0.000811\tAcc: 96.790865%\n",
      "Test set: Average loss: 0.0047, Accuracy: 8158/9984 (82%)\n",
      "Train epoch: 7 [49920/50000          (100%)]\tLoss: 0.000439\tAcc: 98.461538%\n",
      "Test set: Average loss: 0.0050, Accuracy: 8235/9984 (82%)\n",
      "Train epoch: 8 [49920/50000          (100%)]\tLoss: 0.000189\tAcc: 99.461138%\n",
      "Test set: Average loss: 0.0039, Accuracy: 8605/9984 (86%)\n",
      "Train epoch: 9 [49920/50000          (100%)]\tLoss: 0.000051\tAcc: 99.945913%\n",
      "Test set: Average loss: 0.0035, Accuracy: 8756/9984 (88%)\n",
      "Train epoch: 10 [49920/50000          (100%)]\tLoss: 0.000013\tAcc: 99.997997%\n",
      "Test set: Average loss: 0.0034, Accuracy: 8860/9984 (89%)\n"
     ]
    }
   ],
   "source": [
    "epochs = 10\n",
    "train_acc = []\n",
    "test_acc = []\n",
    "for epoch in range(1,epochs+1):\n",
    "    train_acc.append(train_model(model, device, train_loader, loss_criterion, optimizer, epoch))\n",
    "    test_acc.append(test_model(model, device, test_loader, loss_criterion))"
   ]
  },
  {
   "cell_type": "code",
   "execution_count": null,
   "metadata": {},
   "outputs": [],
   "source": [
    "pathlib.Path(\"saved_models\").mkdir(exist_ok=True)\n",
    "timestr = time.strftime(\"%Y%m%d-%H%M%S\")\n",
    "save_model_path = \"saved_models/CIFAR10-\"+timestr+\".pth\"\n",
    "torch.save(model.state_dict(), save_model_path)"
   ]
  }
 ],
 "metadata": {
  "kernelspec": {
   "display_name": "Python 3 (ipykernel)",
   "language": "python",
   "name": "python3"
  },
  "language_info": {
   "codemirror_mode": {
    "name": "ipython",
    "version": 3
   },
   "file_extension": ".py",
   "mimetype": "text/x-python",
   "name": "python",
   "nbconvert_exporter": "python",
   "pygments_lexer": "ipython3",
   "version": "3.10.13"
  }
 },
 "nbformat": 4,
 "nbformat_minor": 4
}
